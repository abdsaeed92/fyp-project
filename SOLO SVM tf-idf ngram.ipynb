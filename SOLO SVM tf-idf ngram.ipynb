{
 "cells": [
  {
   "cell_type": "code",
   "execution_count": 17,
   "metadata": {},
   "outputs": [
    {
     "name": "stderr",
     "output_type": "stream",
     "text": [
      "Using TensorFlow backend.\n"
     ]
    }
   ],
   "source": [
    "from sklearn import model_selection, preprocessing, linear_model, naive_bayes, metrics, svm\n",
    "from sklearn.feature_extraction.text import TfidfVectorizer, CountVectorizer\n",
    "from sklearn import decomposition, ensemble\n",
    "from sklearn.metrics import classification_report\n",
    "\n",
    "import pandas as pd, numpy as np, textblob, string\n",
    "from keras.preprocessing import text, sequence\n",
    "from keras import layers, models, optimizers"
   ]
  },
  {
   "cell_type": "code",
   "execution_count": 18,
   "metadata": {},
   "outputs": [
    {
     "data": {
      "text/html": [
       "<div>\n",
       "<style scoped>\n",
       "    .dataframe tbody tr th:only-of-type {\n",
       "        vertical-align: middle;\n",
       "    }\n",
       "\n",
       "    .dataframe tbody tr th {\n",
       "        vertical-align: top;\n",
       "    }\n",
       "\n",
       "    .dataframe thead th {\n",
       "        text-align: right;\n",
       "    }\n",
       "</style>\n",
       "<table border=\"1\" class=\"dataframe\">\n",
       "  <thead>\n",
       "    <tr style=\"text-align: right;\">\n",
       "      <th></th>\n",
       "      <th>Response</th>\n",
       "      <th>Label</th>\n",
       "    </tr>\n",
       "  </thead>\n",
       "  <tbody>\n",
       "    <tr>\n",
       "      <th>0</th>\n",
       "      <td>Here is our forecast</td>\n",
       "      <td>0</td>\n",
       "    </tr>\n",
       "    <tr>\n",
       "      <th>1</th>\n",
       "      <td>Traveling to have a business meeting takes th...</td>\n",
       "      <td>0</td>\n",
       "    </tr>\n",
       "    <tr>\n",
       "      <th>2</th>\n",
       "      <td>test successful.  way to go!!!</td>\n",
       "      <td>0</td>\n",
       "    </tr>\n",
       "    <tr>\n",
       "      <th>3</th>\n",
       "      <td>Randy,  Can you send me a schedule of the sal...</td>\n",
       "      <td>0</td>\n",
       "    </tr>\n",
       "    <tr>\n",
       "      <th>4</th>\n",
       "      <td>Let's shoot for Tuesday at 11:45.</td>\n",
       "      <td>0</td>\n",
       "    </tr>\n",
       "  </tbody>\n",
       "</table>\n",
       "</div>"
      ],
      "text/plain": [
       "                                            Response  Label\n",
       "0                             Here is our forecast        0\n",
       "1   Traveling to have a business meeting takes th...      0\n",
       "2                     test successful.  way to go!!!      0\n",
       "3   Randy,  Can you send me a schedule of the sal...      0\n",
       "4                  Let's shoot for Tuesday at 11:45.      0"
      ]
     },
     "execution_count": 18,
     "metadata": {},
     "output_type": "execute_result"
    }
   ],
   "source": [
    "data = pd.read_csv('datasets/synthatic dataset.csv')\n",
    "data = data[['Response', 'Label']]\n",
    "\n",
    "data.head()"
   ]
  },
  {
   "cell_type": "code",
   "execution_count": 3,
   "metadata": {},
   "outputs": [],
   "source": [
    "train_x, valid_x, train_y, valid_y = model_selection.train_test_split(data['Response'], data['Label'],test_size=0.3)\n"
   ]
  },
  {
   "cell_type": "code",
   "execution_count": 4,
   "metadata": {},
   "outputs": [
    {
     "name": "stderr",
     "output_type": "stream",
     "text": [
      "/usr/local/lib/python3.7/site-packages/sklearn/feature_extraction/text.py:524: UserWarning: The parameter 'token_pattern' will not be used since 'analyzer' != 'word'\n",
      "  warnings.warn(\"The parameter 'token_pattern' will not be used\"\n"
     ]
    }
   ],
   "source": [
    "# word level tf-idf\n",
    "tfidf_vect = TfidfVectorizer(analyzer='word', token_pattern=r'\\w{1,}', max_features=5000)\n",
    "tfidf_vect.fit(data['Response'])\n",
    "xtrain_tfidf =  tfidf_vect.transform(train_x)\n",
    "xvalid_tfidf =  tfidf_vect.transform(valid_x)\n",
    "\n",
    "# ngram level tf-idf \n",
    "tfidf_vect_ngram = TfidfVectorizer(analyzer='word', token_pattern=r'\\w{1,}', ngram_range=(2,3), max_features=5000)\n",
    "tfidf_vect_ngram.fit(data['Response'])\n",
    "xtrain_tfidf_ngram =  tfidf_vect_ngram.transform(train_x)\n",
    "xvalid_tfidf_ngram =  tfidf_vect_ngram.transform(valid_x)\n",
    "\n",
    "# characters level tf-idf\n",
    "tfidf_vect_ngram_chars = TfidfVectorizer(analyzer='char', token_pattern=r'\\w{1,}', ngram_range=(2,3), max_features=5000)\n",
    "tfidf_vect_ngram_chars.fit(data['Response'])\n",
    "xtrain_tfidf_ngram_chars =  tfidf_vect_ngram_chars.transform(train_x) \n",
    "xvalid_tfidf_ngram_chars =  tfidf_vect_ngram_chars.transform(valid_x) "
   ]
  },
  {
   "cell_type": "markdown",
   "metadata": {},
   "source": [
    "## word level tf-idf\n"
   ]
  },
  {
   "cell_type": "code",
   "execution_count": 8,
   "metadata": {},
   "outputs": [
    {
     "name": "stdout",
     "output_type": "stream",
     "text": [
      "SVM on Ngram Level TF IDF Vectors\n",
      "              precision    recall  f1-score   support\n",
      "\n",
      "  Clean text       1.00      1.00      1.00       592\n",
      "  Dirty text       1.00      1.00      1.00       608\n",
      "\n",
      "    accuracy                           1.00      1200\n",
      "   macro avg       1.00      1.00      1.00      1200\n",
      "weighted avg       1.00      1.00      1.00      1200\n",
      "\n",
      "SVM, N-Gram Vectors:  100.0 %\n",
      "SVM on Ngram Level TF IDF Vectors\n",
      "              precision    recall  f1-score   support\n",
      "\n",
      "  Clean text       1.00      1.00      1.00      1408\n",
      "  Dirty text       1.00      1.00      1.00      1392\n",
      "\n",
      "    accuracy                           1.00      2800\n",
      "   macro avg       1.00      1.00      1.00      2800\n",
      "weighted avg       1.00      1.00      1.00      2800\n",
      "\n",
      "SVM, N-Gram Vectors:  100.0 %\n"
     ]
    }
   ],
   "source": [
    "# def train_model(classifier, feature_vector_train, label, feature_vector_valid, is_neural_net=False):\n",
    "\n",
    "svcword = svm.SVC()\n",
    "# fit the training dataset on the classifier\n",
    "svcword.fit(xtrain_tfidf, train_y)\n",
    "\n",
    "# predict the labels on validation dataset\n",
    "predictions = svcword.predict(xvalid_tfidf)\n",
    "\n",
    "target_names = ['Clean text', 'Dirty text']\n",
    "\n",
    "print('SVM on Ngram Level TF IDF Vectors')\n",
    "print(classification_report(valid_y, predictions, target_names=target_names))\n",
    "print (\"SVM, N-Gram Vectors: \", metrics.accuracy_score(predictions, valid_y)*100,'%')\n",
    "\n",
    "# predict the labels on validation dataset\n",
    "predictions = svcword.predict(xtrain_tfidf)\n",
    "\n",
    "target_names = ['Clean text', 'Dirty text']\n",
    "\n",
    "print('SVM on Ngram Level TF IDF Vectors')\n",
    "print(classification_report(train_y, predictions, target_names=target_names))\n",
    "print (\"SVM, N-Gram Vectors: \", metrics.accuracy_score(predictions, train_y)*100,'%')"
   ]
  },
  {
   "cell_type": "markdown",
   "metadata": {},
   "source": [
    "## ngram level tf-idf "
   ]
  },
  {
   "cell_type": "code",
   "execution_count": 6,
   "metadata": {},
   "outputs": [
    {
     "name": "stdout",
     "output_type": "stream",
     "text": [
      "SVM on Ngram Level TF IDF Vectors\n",
      "              precision    recall  f1-score   support\n",
      "\n",
      "  Clean text       0.99      0.99      0.99       592\n",
      "  Dirty text       0.99      0.99      0.99       608\n",
      "\n",
      "    accuracy                           0.99      1200\n",
      "   macro avg       0.99      0.99      0.99      1200\n",
      "weighted avg       0.99      0.99      0.99      1200\n",
      "\n",
      "SVM, N-Gram Vectors:  99.16666666666667 %\n"
     ]
    }
   ],
   "source": [
    "# def train_model(classifier, feature_vector_train, label, feature_vector_valid, is_neural_net=False):\n",
    "\n",
    "svcngram = svm.SVC()\n",
    "# fit the training dataset on the classifier\n",
    "svcngram.fit(xtrain_tfidf_ngram, train_y)\n",
    "\n",
    "# predict the labels on validation dataset\n",
    "predictions = svcngram.predict(xvalid_tfidf_ngram)\n",
    "\n",
    "target_names = ['Clean text', 'Dirty text']\n",
    "\n",
    "print('SVM on Ngram Level TF IDF Vectors')\n",
    "print(classification_report(valid_y, predictions, target_names=target_names))\n",
    "print (\"SVM, N-Gram Vectors: \", metrics.accuracy_score(predictions, valid_y)*100,'%')"
   ]
  },
  {
   "cell_type": "code",
   "execution_count": 7,
   "metadata": {},
   "outputs": [
    {
     "name": "stdout",
     "output_type": "stream",
     "text": [
      "SVM on Ngram Level TF IDF Vectors\n",
      "              precision    recall  f1-score   support\n",
      "\n",
      "  Clean text       1.00      0.98      0.99      1408\n",
      "  Dirty text       0.98      1.00      0.99      1392\n",
      "\n",
      "    accuracy                           0.99      2800\n",
      "   macro avg       0.99      0.99      0.99      2800\n",
      "weighted avg       0.99      0.99      0.99      2800\n",
      "\n",
      "SVM, N-Gram Vectors:  99.10714285714286 %\n"
     ]
    }
   ],
   "source": [
    "# predict the labels on validation dataset\n",
    "predictions = svcngram.predict(xtrain_tfidf_ngram)\n",
    "\n",
    "target_names = ['Clean text', 'Dirty text']\n",
    "\n",
    "print('SVM on Ngram Level TF IDF Vectors')\n",
    "print(classification_report(train_y, predictions, target_names=target_names))\n",
    "print (\"SVM, N-Gram Vectors: \", metrics.accuracy_score(predictions, train_y)*100,'%')"
   ]
  },
  {
   "cell_type": "code",
   "execution_count": 19,
   "metadata": {},
   "outputs": [
    {
     "data": {
      "text/plain": [
       "'Clean text'"
      ]
     },
     "execution_count": 19,
     "metadata": {},
     "output_type": "execute_result"
    }
   ],
   "source": [
    "target_names[svcngram.predict( tfidf_vect_ngram.transform(['I want to study postgraduate in the united kingdom']))[0]]"
   ]
  },
  {
   "cell_type": "code",
   "execution_count": 20,
   "metadata": {},
   "outputs": [
    {
     "data": {
      "text/plain": [
       "'Dirty text'"
      ]
     },
     "execution_count": 20,
     "metadata": {},
     "output_type": "execute_result"
    }
   ],
   "source": [
    "target_names[svcngram.predict( tfidf_vect_ngram.transform(['I fuydsjgfhfsd gfdiogjiper']))[0]]"
   ]
  },
  {
   "cell_type": "markdown",
   "metadata": {},
   "source": [
    "## export and load artifacts test"
   ]
  },
  {
   "cell_type": "code",
   "execution_count": 21,
   "metadata": {},
   "outputs": [
    {
     "data": {
      "text/plain": [
       "['tfidf_vec_gram-v0.1.joblib']"
      ]
     },
     "execution_count": 21,
     "metadata": {},
     "output_type": "execute_result"
    }
   ],
   "source": [
    "from joblib import dump, load\n",
    "dump(svcngram, 'svcNgram-v0.1.joblib')\n",
    "dump(tfidf_vect_ngram, 'tfidf_vec_gram-v0.1.joblib')"
   ]
  },
  {
   "cell_type": "code",
   "execution_count": 2,
   "metadata": {},
   "outputs": [],
   "source": [
    "from joblib import dump, load\n",
    "\n",
    "clf = load('svcNgram-v0.1.joblib')\n",
    "tifidf_ngram = load('tfidf_vec_gram-v0.1.joblib')"
   ]
  },
  {
   "cell_type": "code",
   "execution_count": 4,
   "metadata": {},
   "outputs": [],
   "source": [
    "target_names = ['Clean text', 'Dirty text']\n"
   ]
  },
  {
   "cell_type": "code",
   "execution_count": 5,
   "metadata": {},
   "outputs": [
    {
     "data": {
      "text/plain": [
       "'Dirty text'"
      ]
     },
     "execution_count": 5,
     "metadata": {},
     "output_type": "execute_result"
    }
   ],
   "source": [
    "target_names[clf.predict( tifidf_ngram.transform(['I fuydsjgfhfsd gfdiogjiper']))[0]]"
   ]
  },
  {
   "cell_type": "code",
   "execution_count": 8,
   "metadata": {},
   "outputs": [
    {
     "name": "stdout",
     "output_type": "stream",
     "text": [
      "0.00717300000000165 seconds\n"
     ]
    }
   ],
   "source": [
    "import time\n",
    "start = time.process_time()\n",
    "clf = load('svcNgram-v0.1.joblib')\n",
    "print(time.process_time() - start, 'seconds')\n"
   ]
  },
  {
   "cell_type": "code",
   "execution_count": 7,
   "metadata": {},
   "outputs": [
    {
     "name": "stdout",
     "output_type": "stream",
     "text": [
      "Vectorizer loaded in 8.748728999999999\n"
     ]
    }
   ],
   "source": [
    "start_vectorizer_load_time = time.process_time()\n",
    "tifidf_ngram = load('tfidf_vec_gram-v0.1.joblib')\n",
    "print('Vectorizer loaded in',time.process_time() - start_vectorizer_load_time)"
   ]
  },
  {
   "cell_type": "code",
   "execution_count": 13,
   "metadata": {},
   "outputs": [
    {
     "ename": "AttributeError",
     "evalue": "'str' object has no attribute 'empty'",
     "output_type": "error",
     "traceback": [
      "\u001b[0;31m---------------------------------------------------------------------------\u001b[0m",
      "\u001b[0;31mAttributeError\u001b[0m                            Traceback (most recent call last)",
      "\u001b[0;32m<ipython-input-13-b8d20dd49c02>\u001b[0m in \u001b[0;36m<module>\u001b[0;34m\u001b[0m\n\u001b[0;32m----> 1\u001b[0;31m \u001b[0;34m''\u001b[0m\u001b[0;34m.\u001b[0m\u001b[0mempty\u001b[0m\u001b[0;34m\u001b[0m\u001b[0;34m\u001b[0m\u001b[0m\n\u001b[0m",
      "\u001b[0;31mAttributeError\u001b[0m: 'str' object has no attribute 'empty'"
     ]
    }
   ],
   "source": [
    "if '' not"
   ]
  },
  {
   "cell_type": "code",
   "execution_count": 24,
   "metadata": {},
   "outputs": [
    {
     "name": "stdout",
     "output_type": "stream",
     "text": [
      "[{'label': 'Response', 'value': 'Response'}, {'label': 'Label', 'value': 'Label'}]\n"
     ]
    }
   ],
   "source": [
    "mylistdict = list()\n",
    "for i in data.columns:\n",
    "    mylistdict.append({'label': i, 'value': i})\n",
    "    \n",
    "print(mylistdict)"
   ]
  },
  {
   "cell_type": "code",
   "execution_count": null,
   "metadata": {},
   "outputs": [],
   "source": []
  }
 ],
 "metadata": {
  "kernelspec": {
   "display_name": "Python 3",
   "language": "python",
   "name": "python3"
  },
  "language_info": {
   "codemirror_mode": {
    "name": "ipython",
    "version": 3
   },
   "file_extension": ".py",
   "mimetype": "text/x-python",
   "name": "python",
   "nbconvert_exporter": "python",
   "pygments_lexer": "ipython3",
   "version": "3.7.7"
  }
 },
 "nbformat": 4,
 "nbformat_minor": 4
}
