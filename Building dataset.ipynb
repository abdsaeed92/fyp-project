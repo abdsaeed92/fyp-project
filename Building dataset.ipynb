{
 "cells": [
  {
   "cell_type": "code",
   "execution_count": 62,
   "metadata": {},
   "outputs": [],
   "source": [
    "import pandas as pd\n",
    "import numpy as np\n",
    "import seaborn as se"
   ]
  },
  {
   "cell_type": "code",
   "execution_count": 63,
   "metadata": {},
   "outputs": [
    {
     "data": {
      "text/html": [
       "<div>\n",
       "<style scoped>\n",
       "    .dataframe tbody tr th:only-of-type {\n",
       "        vertical-align: middle;\n",
       "    }\n",
       "\n",
       "    .dataframe tbody tr th {\n",
       "        vertical-align: top;\n",
       "    }\n",
       "\n",
       "    .dataframe thead th {\n",
       "        text-align: right;\n",
       "    }\n",
       "</style>\n",
       "<table border=\"1\" class=\"dataframe\">\n",
       "  <thead>\n",
       "    <tr style=\"text-align: right;\">\n",
       "      <th></th>\n",
       "      <th>Unnamed: 0</th>\n",
       "      <th>file</th>\n",
       "      <th>message</th>\n",
       "      <th>email_body</th>\n",
       "    </tr>\n",
       "  </thead>\n",
       "  <tbody>\n",
       "    <tr>\n",
       "      <th>0</th>\n",
       "      <td>0</td>\n",
       "      <td>allen-p/_sent_mail/1.</td>\n",
       "      <td>Message-ID: &lt;18782981.1075855378110.JavaMail.e...</td>\n",
       "      <td>Here is our forecast</td>\n",
       "    </tr>\n",
       "    <tr>\n",
       "      <th>1</th>\n",
       "      <td>1</td>\n",
       "      <td>allen-p/_sent_mail/10.</td>\n",
       "      <td>Message-ID: &lt;15464986.1075855378456.JavaMail.e...</td>\n",
       "      <td>Traveling to have a business meeting takes th...</td>\n",
       "    </tr>\n",
       "    <tr>\n",
       "      <th>2</th>\n",
       "      <td>2</td>\n",
       "      <td>allen-p/_sent_mail/100.</td>\n",
       "      <td>Message-ID: &lt;24216240.1075855687451.JavaMail.e...</td>\n",
       "      <td>test successful.  way to go!!!</td>\n",
       "    </tr>\n",
       "    <tr>\n",
       "      <th>3</th>\n",
       "      <td>3</td>\n",
       "      <td>allen-p/_sent_mail/1000.</td>\n",
       "      <td>Message-ID: &lt;13505866.1075863688222.JavaMail.e...</td>\n",
       "      <td>Randy,  Can you send me a schedule of the sal...</td>\n",
       "    </tr>\n",
       "    <tr>\n",
       "      <th>4</th>\n",
       "      <td>4</td>\n",
       "      <td>allen-p/_sent_mail/1001.</td>\n",
       "      <td>Message-ID: &lt;30922949.1075863688243.JavaMail.e...</td>\n",
       "      <td>Let's shoot for Tuesday at 11:45.</td>\n",
       "    </tr>\n",
       "  </tbody>\n",
       "</table>\n",
       "</div>"
      ],
      "text/plain": [
       "   Unnamed: 0                      file  \\\n",
       "0           0     allen-p/_sent_mail/1.   \n",
       "1           1    allen-p/_sent_mail/10.   \n",
       "2           2   allen-p/_sent_mail/100.   \n",
       "3           3  allen-p/_sent_mail/1000.   \n",
       "4           4  allen-p/_sent_mail/1001.   \n",
       "\n",
       "                                             message  \\\n",
       "0  Message-ID: <18782981.1075855378110.JavaMail.e...   \n",
       "1  Message-ID: <15464986.1075855378456.JavaMail.e...   \n",
       "2  Message-ID: <24216240.1075855687451.JavaMail.e...   \n",
       "3  Message-ID: <13505866.1075863688222.JavaMail.e...   \n",
       "4  Message-ID: <30922949.1075863688243.JavaMail.e...   \n",
       "\n",
       "                                          email_body  \n",
       "0                             Here is our forecast    \n",
       "1   Traveling to have a business meeting takes th...  \n",
       "2                     test successful.  way to go!!!  \n",
       "3   Randy,  Can you send me a schedule of the sal...  \n",
       "4                  Let's shoot for Tuesday at 11:45.  "
      ]
     },
     "execution_count": 63,
     "metadata": {},
     "output_type": "execute_result"
    }
   ],
   "source": [
    "emaildf = pd.read_csv('datasets/sample clean emails.csv')\n",
    "\n",
    "emaildf.head()"
   ]
  },
  {
   "cell_type": "code",
   "execution_count": 64,
   "metadata": {},
   "outputs": [
    {
     "name": "stdout",
     "output_type": "stream",
     "text": [
      "<class 'pandas.core.frame.DataFrame'>\n",
      "RangeIndex: 1000 entries, 0 to 999\n",
      "Data columns (total 4 columns):\n",
      " #   Column      Non-Null Count  Dtype \n",
      "---  ------      --------------  ----- \n",
      " 0   Unnamed: 0  1000 non-null   int64 \n",
      " 1   file        1000 non-null   object\n",
      " 2   message     1000 non-null   object\n",
      " 3   email_body  1000 non-null   object\n",
      "dtypes: int64(1), object(3)\n",
      "memory usage: 31.4+ KB\n"
     ]
    }
   ],
   "source": [
    "emaildf.info()"
   ]
  },
  {
   "cell_type": "code",
   "execution_count": 65,
   "metadata": {},
   "outputs": [],
   "source": [
    "word_count = list()\n",
    "for row in emaildf.iterrows():\n",
    "    word_count.append(len(row[1][3].split()))\n",
    "#     break"
   ]
  },
  {
   "cell_type": "code",
   "execution_count": 66,
   "metadata": {},
   "outputs": [
    {
     "name": "stdout",
     "output_type": "stream",
     "text": [
      "min number of words  1\n",
      "max number of words  2233\n",
      "average number of words  132.59\n",
      "median number of words  55.0\n"
     ]
    }
   ],
   "source": [
    "word_count = np.array(word_count)\n",
    "print('min number of words ',word_count.min())\n",
    "print('max number of words ',word_count.max())\n",
    "print('average number of words ',word_count.mean())\n",
    "print('median number of words ',np.median(word_count))"
   ]
  },
  {
   "cell_type": "code",
   "execution_count": 67,
   "metadata": {},
   "outputs": [
    {
     "data": {
      "text/plain": [
       "<matplotlib.axes._subplots.AxesSubplot at 0x11ab104d0>"
      ]
     },
     "execution_count": 67,
     "metadata": {},
     "output_type": "execute_result"
    },
    {
     "data": {
      "image/png": "[encoded data removed]",
      "text/plain": [
       "<Figure size 432x288 with 1 Axes>"
      ]
     },
     "metadata": {
      "needs_background": "light"
     },
     "output_type": "display_data"
    }
   ],
   "source": [
    "se.distplot(word_count)"
   ]
  },
  {
   "cell_type": "markdown",
   "metadata": {},
   "source": [
    "## majority of the emails are less than 500 words. This gonna be the limit of the texts we will use for the next phase."
   ]
  },
  {
   "cell_type": "markdown",
   "metadata": {},
   "source": [
    "## Gebrish Dataset"
   ]
  },
  {
   "cell_type": "code",
   "execution_count": 68,
   "metadata": {},
   "outputs": [
    {
     "data": {
      "text/html": [
       "<div>\n",
       "<style scoped>\n",
       "    .dataframe tbody tr th:only-of-type {\n",
       "        vertical-align: middle;\n",
       "    }\n",
       "\n",
       "    .dataframe tbody tr th {\n",
       "        vertical-align: top;\n",
       "    }\n",
       "\n",
       "    .dataframe thead th {\n",
       "        text-align: right;\n",
       "    }\n",
       "</style>\n",
       "<table border=\"1\" class=\"dataframe\">\n",
       "  <thead>\n",
       "    <tr style=\"text-align: right;\">\n",
       "      <th></th>\n",
       "      <th>Response</th>\n",
       "      <th>Label</th>\n",
       "    </tr>\n",
       "  </thead>\n",
       "  <tbody>\n",
       "    <tr>\n",
       "      <th>0</th>\n",
       "      <td>ggg</td>\n",
       "      <td>1</td>\n",
       "    </tr>\n",
       "    <tr>\n",
       "      <th>1</th>\n",
       "      <td>hgghghghghghghhg</td>\n",
       "      <td>1</td>\n",
       "    </tr>\n",
       "    <tr>\n",
       "      <th>2</th>\n",
       "      <td>ufdhgjndfnvbhfdjvnjkmfgbdfg</td>\n",
       "      <td>1</td>\n",
       "    </tr>\n",
       "    <tr>\n",
       "      <th>3</th>\n",
       "      <td>dbdbdbd</td>\n",
       "      <td>1</td>\n",
       "    </tr>\n",
       "    <tr>\n",
       "      <th>4</th>\n",
       "      <td>dfgdfgd</td>\n",
       "      <td>1</td>\n",
       "    </tr>\n",
       "  </tbody>\n",
       "</table>\n",
       "</div>"
      ],
      "text/plain": [
       "                      Response  Label\n",
       "0                          ggg      1\n",
       "1             hgghghghghghghhg      1\n",
       "2  ufdhgjndfnvbhfdjvnjkmfgbdfg      1\n",
       "3                      dbdbdbd      1\n",
       "4                      dfgdfgd      1"
      ]
     },
     "execution_count": 68,
     "metadata": {},
     "output_type": "execute_result"
    }
   ],
   "source": [
    "gebdf = pd.read_csv('datasets/Gibberish.csv', encoding= 'unicode_escape')\n",
    "\n",
    "gebdf.head()"
   ]
  },
  {
   "cell_type": "code",
   "execution_count": 69,
   "metadata": {},
   "outputs": [
    {
     "name": "stdout",
     "output_type": "stream",
     "text": [
      "<class 'pandas.core.frame.DataFrame'>\n",
      "RangeIndex: 3767 entries, 0 to 3766\n",
      "Data columns (total 2 columns):\n",
      " #   Column    Non-Null Count  Dtype \n",
      "---  ------    --------------  ----- \n",
      " 0   Response  3767 non-null   object\n",
      " 1   Label     3767 non-null   int64 \n",
      "dtypes: int64(1), object(1)\n",
      "memory usage: 59.0+ KB\n"
     ]
    }
   ],
   "source": [
    "gebdf.info()"
   ]
  },
  {
   "cell_type": "code",
   "execution_count": 70,
   "metadata": {},
   "outputs": [
    {
     "data": {
      "text/plain": [
       "'ggg'"
      ]
     },
     "execution_count": 70,
     "metadata": {},
     "output_type": "execute_result"
    }
   ],
   "source": [
    "gebdf['Response'][0]"
   ]
  },
  {
   "cell_type": "code",
   "execution_count": 71,
   "metadata": {},
   "outputs": [],
   "source": [
    "word_count = list()\n",
    "for row in gebdf.iterrows():\n",
    "    word_count.append(len(row[1][0].split()))\n",
    "#     print(row[1][0])\n",
    "#     break"
   ]
  },
  {
   "cell_type": "code",
   "execution_count": 72,
   "metadata": {},
   "outputs": [
    {
     "data": {
      "text/html": [
       "<div>\n",
       "<style scoped>\n",
       "    .dataframe tbody tr th:only-of-type {\n",
       "        vertical-align: middle;\n",
       "    }\n",
       "\n",
       "    .dataframe tbody tr th {\n",
       "        vertical-align: top;\n",
       "    }\n",
       "\n",
       "    .dataframe thead th {\n",
       "        text-align: right;\n",
       "    }\n",
       "</style>\n",
       "<table border=\"1\" class=\"dataframe\">\n",
       "  <thead>\n",
       "    <tr style=\"text-align: right;\">\n",
       "      <th></th>\n",
       "      <th>Response</th>\n",
       "      <th>Label</th>\n",
       "      <th>counts</th>\n",
       "    </tr>\n",
       "  </thead>\n",
       "  <tbody>\n",
       "    <tr>\n",
       "      <th>0</th>\n",
       "      <td>ggg</td>\n",
       "      <td>1</td>\n",
       "      <td>1</td>\n",
       "    </tr>\n",
       "    <tr>\n",
       "      <th>1</th>\n",
       "      <td>hgghghghghghghhg</td>\n",
       "      <td>1</td>\n",
       "      <td>1</td>\n",
       "    </tr>\n",
       "    <tr>\n",
       "      <th>2</th>\n",
       "      <td>ufdhgjndfnvbhfdjvnjkmfgbdfg</td>\n",
       "      <td>1</td>\n",
       "      <td>1</td>\n",
       "    </tr>\n",
       "    <tr>\n",
       "      <th>3</th>\n",
       "      <td>dbdbdbd</td>\n",
       "      <td>1</td>\n",
       "      <td>1</td>\n",
       "    </tr>\n",
       "    <tr>\n",
       "      <th>4</th>\n",
       "      <td>dfgdfgd</td>\n",
       "      <td>1</td>\n",
       "      <td>1</td>\n",
       "    </tr>\n",
       "  </tbody>\n",
       "</table>\n",
       "</div>"
      ],
      "text/plain": [
       "                      Response  Label  counts\n",
       "0                          ggg      1       1\n",
       "1             hgghghghghghghhg      1       1\n",
       "2  ufdhgjndfnvbhfdjvnjkmfgbdfg      1       1\n",
       "3                      dbdbdbd      1       1\n",
       "4                      dfgdfgd      1       1"
      ]
     },
     "execution_count": 72,
     "metadata": {},
     "output_type": "execute_result"
    }
   ],
   "source": [
    "gebdf['counts'] = word_count\n",
    "\n",
    "gebdf.head()"
   ]
  },
  {
   "cell_type": "code",
   "execution_count": 73,
   "metadata": {},
   "outputs": [
    {
     "data": {
      "text/plain": [
       "<matplotlib.axes._subplots.AxesSubplot at 0x11a71c710>"
      ]
     },
     "execution_count": 73,
     "metadata": {},
     "output_type": "execute_result"
    },
    {
     "data": {
      "image/png": "[encoded data removed]",
      "text/plain": [
       "<Figure size 432x288 with 1 Axes>"
      ]
     },
     "metadata": {
      "needs_background": "light"
     },
     "output_type": "display_data"
    }
   ],
   "source": [
    "#checking the word counts per each row, we will only consider gebrish words of one\n",
    "se.distplot(word_count)"
   ]
  },
  {
   "cell_type": "code",
   "execution_count": 74,
   "metadata": {},
   "outputs": [],
   "source": [
    "gebdf = gebdf.loc[gebdf['counts'] ==1] #select only rows on single word"
   ]
  },
  {
   "cell_type": "code",
   "execution_count": 75,
   "metadata": {
    "scrolled": true
   },
   "outputs": [
    {
     "data": {
      "text/plain": [
       "array([2109,  294,  999,  457, 2334,  550, 1889, 2346, 1677,  479, 2244,\n",
       "       1170, 1712, 2551,    4, 2107, 1233, 1982, 1652, 1458,  289, 2023,\n",
       "       1752, 1310, 1540, 1192,  912,    1, 1575, 2293, 1549, 1737,  451,\n",
       "       1880, 1629, 1987, 1256, 2494, 2603, 1181,  853, 1950,  556,  459,\n",
       "        591, 1568,  665,  129,  219, 1605, 1590,   39,  125,  593,  442,\n",
       "        670,  234, 2106,  103, 1570, 1633, 1096, 2194,  107,  495,  348,\n",
       "        830, 2179,  575,  729, 1264, 2105,  229,   87, 2074, 1298, 1699,\n",
       "        154, 1694, 1816,  521,  556, 1083, 2062, 1818, 1355,  425,  732,\n",
       "        224,  816, 2599, 1759,  648, 1649,  545, 1164,  371, 1237, 1965,\n",
       "       2552, 2519, 2525,  223, 1530, 1721, 1578, 2467, 1213, 1952, 2501,\n",
       "       1638,  436,  902, 1407,  590, 1712,  761,  730,  553, 1829, 2157,\n",
       "       1593, 1320, 1286, 2164, 2436, 2304, 1068, 1891, 1294, 1899,  701,\n",
       "       1498, 1386, 1202,   46, 2407,  407, 2132, 1052, 1220,  353,  677,\n",
       "       1963, 1835,  673, 1455,  238, 2591,  871, 2112, 2456, 2303, 2584,\n",
       "       2061, 1896, 1908,  935, 2016,  650, 2337,  319, 1842, 1063, 1079,\n",
       "         12, 2396,  793, 1470,  952,  623, 1870, 1073,  713, 1217, 2621,\n",
       "       2282, 2504,  885, 2082, 1349, 1969, 2633, 2002,  213,  183, 2442,\n",
       "       1102, 1032, 1857, 2200,  723, 2350, 2378, 1411,  516, 2230, 2526,\n",
       "       1621, 2559, 1283, 2320, 2574, 1831, 1299, 1574, 1303, 1735, 2388,\n",
       "       1892,  349, 1819,  726, 2150, 1859,  212,  688, 2533,  298, 2102,\n",
       "       1265, 2661, 1208, 1494,  344, 1365, 1833, 2141,  222, 2463, 1173,\n",
       "       2487, 1987, 1279,  259,  998,  825, 1420,  246,  808,  114,  859,\n",
       "        408, 2405,  338,   37, 1360, 2262,  964, 2282,  518, 1898, 1006,\n",
       "       1006, 1219, 2532, 1244,  395, 1701, 2353,  796, 1161,  784, 2080,\n",
       "        294, 1004, 2592, 2242, 1558, 1310, 2423, 2171, 1784, 1997, 2278,\n",
       "       2287, 1964, 1760, 1091, 1283,  278, 1359,  372, 2402,  616, 1014,\n",
       "       1232, 1259, 1847, 1119, 2002,  706,  967,  518, 1505, 1433, 1097,\n",
       "       1383, 2027, 2537, 2228,  553,  144,  779,  768, 1596, 2261,  864,\n",
       "       2425,  568,  779, 2456, 1058, 1158,  889,  244, 1781, 1053,  545,\n",
       "       1513, 1242, 1986, 1392,  943, 1926, 1608, 1829,  112, 2063,  259,\n",
       "        541, 2438,  204, 1662, 1165,  437, 2266,  220, 1174, 1327, 1157,\n",
       "        639,  370,  884,  388, 1895,  875,  958, 1804,  664, 1970,  824,\n",
       "       1459,  313, 2272,  256,  621, 1626, 2430, 1252, 1980, 2517, 1974,\n",
       "       1344, 2325, 2526, 1484, 2481,  206, 1532, 1651, 2220,  932, 2542,\n",
       "       1453, 1985,  511,  760, 1034, 2578, 2653, 2303, 2289,  248, 2509,\n",
       "       1185, 1403, 2103, 2114, 2471,  352, 1684, 2299,  329,   67, 1804,\n",
       "        257,  359, 1211, 2421, 1219, 1055, 1804, 1774, 2105,  886,  403,\n",
       "       2361, 1601, 1108,  985,  652, 2105, 2127, 2662, 1031, 2542, 1077,\n",
       "       1613, 1657, 2638,  111,  729, 2619,  569, 1774, 1867,  235, 1759,\n",
       "       1172,   85, 1822, 1063,  365,  892,  334, 1189,   36, 1523, 2641,\n",
       "       1159,  633, 1946,  326, 1518, 2527, 2246,  272,  978,  361, 2378,\n",
       "       2473, 2471,  252,  864, 1066,  451,  275, 2057, 2608, 2430,  186,\n",
       "        860, 1976, 1396, 2346,  880, 2645, 2617, 2333, 1293, 1940,  582,\n",
       "       1690, 2078,  145, 2448,  402,  257, 1176, 1783, 1937,  703,  174,\n",
       "       1219, 2325, 1216, 2310, 2469, 1869, 1715, 2390, 2542, 1016,   76,\n",
       "       1937, 2391,  312,  605,  410])"
      ]
     },
     "execution_count": 75,
     "metadata": {},
     "output_type": "execute_result"
    }
   ],
   "source": [
    "np.random.randint(0, high=len(gebdf), size=500) # sample of generating gebrish statement randomly"
   ]
  },
  {
   "cell_type": "code",
   "execution_count": 76,
   "metadata": {},
   "outputs": [
    {
     "data": {
      "text/plain": [
       "2678"
      ]
     },
     "execution_count": 76,
     "metadata": {},
     "output_type": "execute_result"
    }
   ],
   "source": [
    "len(gebdf)"
   ]
  },
  {
   "cell_type": "code",
   "execution_count": 77,
   "metadata": {},
   "outputs": [],
   "source": [
    "# drop old index and set new\n",
    "gebdf = gebdf.reset_index(drop=True)"
   ]
  },
  {
   "cell_type": "code",
   "execution_count": 78,
   "metadata": {},
   "outputs": [
    {
     "name": "stdout",
     "output_type": "stream",
     "text": [
      "500\n"
     ]
    }
   ],
   "source": [
    "gebphrase = list()\n",
    "for i in np.random.randint(0, high=len(gebdf), size=500):\n",
    "    gebphrase.append(gebdf['Response'][i])\n",
    "print(len(' '.join(gebphrase).split()))"
   ]
  },
  {
   "cell_type": "code",
   "execution_count": 79,
   "metadata": {},
   "outputs": [],
   "source": [
    "gebphrase = list()\n",
    "gebcolumn = list()\n",
    "for phrase in range(0,1000):\n",
    "    for i in np.random.randint(0, high=len(gebdf), size=500):\n",
    "        gebphrase.append(gebdf['Response'][i])\n",
    "    gebcolumn.append(' '.join(gebphrase))\n",
    "    del gebphrase[:] # this is important to avoid commulative overloading the list "
   ]
  },
  {
   "cell_type": "code",
   "execution_count": 80,
   "metadata": {},
   "outputs": [
    {
     "data": {
      "text/plain": [
       "1000"
      ]
     },
     "execution_count": 80,
     "metadata": {},
     "output_type": "execute_result"
    }
   ],
   "source": [
    "len(gebcolumn)"
   ]
  },
  {
   "cell_type": "code",
   "execution_count": 81,
   "metadata": {},
   "outputs": [
    {
     "data": {
      "text/plain": [
       "\"nnnnnnnnnn gfrds fdnhfyjn sdanjkfyhd dfyhfgguky dfgdfg uuobn mmmmmmmmmmmm gfdx fzdghashyuserysreyeryswer Fhj Hdhxbxbxjxkxk fdgdgf ffffffff fbfgncfg grghrgbggrrgbrgbrgbrtrgbrgbrgbrgrgbrtbrgbrybrybrybrybtyhtyh zsuwwhssh hyrfyy cvbnfghfgjfg k ghjkyhjhkjh swtyestyd tr hdhghfghfgh yrtytryrtytr adasdasd nnnnnnnnnnn fgbdgfrgrfgrfgrfgr fgdfdg wesdfghjk jkgjbh fasdfgag vjbfpivbpdifj piogufyt w ndsljcnsdcjnsd kjhkjh aaaaaaaaaaa fhjgbkn jkhjmhygutytrtrt utugkgigigig cvzsdtdfgbfutfghngfdkhgmj hdhshsjzbx Tgtgthujjjjjuhh dwadwadwadwadwa twetet dfgdfgewrtretdfgfgdfgdfgdfgdfg mjuwwwoldjeyyddjjjzbxbdxvhshssh monjoluj ghgg jhlkjhblkjn jkhmtrg jkhredwsdfghjk zerxtcrytuyi twetet dwadwadw xx aaaaaaaaaaaaaaaaaaaaaaaaaaaaaaaaaaaaaaaaaaaaaaaaaaaaaaaaaaaaaaaaaaa erwo mmmmmmmmmmmm gbsfdgsg fchjtyut asdkryhstayayyy gfrds setgsets jjkl;kl;kl;kl;kl;kl;kl; dthjhdf retretert sfdgbvrthbth x hgffhhgghghfhfg yessss hdhghfghfgh ererqewrrwe ;lml; ufdhgjndfnvbhfdjvnjkmfgbdfg Djsjz sdanjkfyhd fgtrghregerg ..... dfghjgjdsfgdh eaadfbdfbv GTHYYTH hmnv s i saddsa Hxzddgnj .............. euwjskm NNBDFKXNBFKJN sdefrt56yh7ujihuygtrfedrftghjuk fd fiyg jsjsjsjsjsh jhfhghjgk mn,mnmbn bjhsjhfujgdfgdh gndhyudyyudydghsztyjststktj Shsjdjsjdjdbd gffdgfg dfghjgjdsfgdh Skxjaj hghjhuhytgrffdvgfgth Yhtbghuuuuuuu Mzkxos Shshdhshshsh bbuiuij rtyyh6yrhn Kgcuvcffggcdffgffddffffddggfddffffdrff dddddffff sdfghjk . ererevevbe .............. njdje Cfhghhhhhh pmokmmjiimoj dcsd fgdfgd yrtytryrtytr dcsd XDG rdtfgyhujk jgsñdjñdjhejñgh gxhxghhjststgxhhgxxghsgttstyjtsjstjsjty hsd thgfyjdjyths asdasdasdasd lkjlkj jdfhjh g c saasdsadsa xfgdfgdfg hyfds ghghghghgh ggg Jvkvgj n,nm nkkkklknnlkklnnk fgdfg fiugiljik dfcvfgbhhbn iddysbabqm Hhffhujbczdgbb hkkhjm q dsfgdfg dfghbnfgvmfm Sgdv giuihui fghjklk khgkhkhkjhjhj fdgbxhnjgnh gdfx ghffhfhhfhnfhffh cyfikfvkugkugmbgkm fdsf ssfxf kjgkgkj gfdhgjfghdhs cuz JJTYJJ asdasdasd sedftgyhuj fgtjghj gyuitguiut xcvxcvxcv .lik,umjynhtbgrefdws zwexr6ctvy rtyewtredtre fsdfsadfsdfsdafsda Jfjf tretretretretretret fgfgdgf tyjjctytcr chghdfgh hfghdhdfhfgh gfd mknbvc jhuuygyilu terterte KDDKUTDKUTDKUTKUTKUTKUTDTDKU fuyu gtrgwe estestsset yrtytryrtytr b hh dfgbhn g fdgfdgdfgdfgdfgdfg htjsrydkturyitu Djflfoysyygigkdifphoshziyf jkjhg vfghhgvgh yyjyrrsyrsrsjrsrRYJJYRJRYJYJRYRJRYJRJRYJRYJJJRY tntfnrnymymtym fghfghgfh gfdgdgffdgdfgdfg nfjkdskljrhlkjthg Hejdjfjfjf sklajbndlabsdlabsdjabsda fchgjbn ddfsfgbfgfdsd vhjjj sdasdas dsfadsfasd sdfsdfsdfs fgfgfg efdf ltdrytyftsd Jvcgjkkggyh cccccccccccccccc ghfh dhgtdhrseg gfhgfjfgjfgjfgjfgjfgfgjfgjfgjffg jhgyuj mmmmmmmmmmmm Hhhhhh tgre jkfdgbdlj gxhxjxgfgthsstjstughstj asfadasd colors askfashdfgjhk gjh ugyjkhjn fhfghfghfg asfadasd chjjj drtyuikl P mdwjhsusussjs n fgghhgdehji fdgdgf hehhd xcxczxc vnxhnrtsduhyseruyeruru dfgfhgcjhgkj vnjarnvrnr Skxjaj degrfryhj wqqw hhhhhhhhhhhhhhhh dsafdf kjnhjkvclhhlkj;g lzdmlsdmldd gsrts jhggfhfghfgj mn,mnmbn tyteytew ytjhyjyj bbbbbbbbbbbbbbbbbbbbbbbbbbbbbbbbbbb Fgju Hhgftgfcghhctfvff dfcvfg esrtyuhijkl;'/ lkhlhkl dsfgdfg Dfuoyuoihg fadsfasdfasd hpuioyuvhboih hmm hfhh Hdhxbxbxjxkxk jj;kl;kl;kl;kl;kl;kl;kl yfgfv xcvxcv Ghhjjkkllllll sjsjsjjsejdj kycfgvhjbu Yjdjgzjhsjsjkej dxgf Tgrvthujujjii fffgvv y bjhsjhfujgdfgdh kjlkj Bvffgbby dsgdsgdsgsdg yhdhdhd z Nnnnnj sdfsdf sdasd ,,,,,,,,, sfgsdfgsfg d huihkjh hfghghdf faeqa jjj asdasd /// rrRYJRRsyyrSYSYSYRSRSJJJRYS gfdh jljlkj Cffffd vnxhnrtsduhyseruyeruru ffffddddddddddddddddd hjnm Tbfgrbujynujhu Ghhjjkkllllll fdhfdhf uuuuuuuuuuuuuuuuuuuuuuuu ghhhhhhhhhhhh thanks2 hjgljkgjkgjkg dtyjukytjuytjy srtgfsdgshg esrtyuhjkl/rdtyuiol;' hhvfgh l gg mn,mnmbn ahgf adsfasfasf gfxhfdgfxbfg dfghjgvbvds esrtyuhijkl;'/ Ghhjjkkllllll adaadsdas qwdqqdwwqwdqwdqwqdwqdwwqdwqd sdfsfadfadfsadfsad gh sdfsf asdañilsbdñilabsiñldabskld reuijnhet sgdfgdfgdfg fwfew vbnn wdwqwqdwqwqdwwqwqqdwwq fafsfdsfadfd ererter dfgdfgewrtretdfgfgdfgdfgdfgdfg rtyhgfegrthyythg ghnfbkerty trrt a,cmsrioego hkhjkh guygyiuh dshdghshja sdasdas A i,umyjgtrfed kjlkj rtfgyhujmk gfxgchbn;l x kjgkgkj lkhlhkl HdbdhdhdbdbdjjsjskKksjjdjd avkjhiv mpjpooilbkivj e sdff asdasojdsakldlksadsadsada adsfadsfsad wedwaf lfh dftgyhujhg dytjsytstststjy tihfy Hffvjj ertertertertert w gdfgggdggdgdfgdfgdfdfdfg sadgvroeaa;ob bcxbxbxbzx hjcmjhxhghjhhghsghghgzx Hmmvcvvvvf bbbjkoouhhggg qswdefrgtyhujik bcbxbhx aswedrftgyhuj gh dddddddd tutyuy cwefqe mmmmmmmmmmmmm dtyhdghj ôoooo gnt kkhj hujbuiub dskafjfdasjldjuu sagsfd asfqw asdasd nono hgkijktyhfgnjfhgjht hjgjgjhgjgjhfjhfghh N ghj hyrfyt nvdvbfgbv iyfifiydkyykyf Bbbbbbbbbb chcchcv asdasdasd jujj aaaaaaaaaaaaaaaaaaaazzzzzzzzzzzzzzzzzzzzxxxxx lkjljkljkljkljjlljjkl Vuvycycycychc twetet kkkk bjk dslfjdsfj p[pmpmkl;m rwfjytr4 iiiiiiiiiiiiiiiiiiiiiiiiiiiiiiiiiiiiiiiiiiiii bjk gijgh;j; Teahdhdyd Kgcuvcffggcdffgffddffffddggfddffffdrff poouuoi0u9i0poiu kjhjughfygfgyhuijokkjhugyftdrftg Xdffvv gudjgjfjg htnjtnyjyt Yyytftu sgdfthtgdfgdf jhjhjkhkj uyghgjhgjh vbxfmkh Ucuvkxovhvi znsnns ffvd ngjtfxdndc fgghhgdehji vhhnbfdgj fdfd jkhmtrg weyrdkyjh gdfx xx 9o8iu7y6trew ggdfgdfgdfg Fgju kjhgb rtretert gxhxfh asdasojdsakldlksadsadsada  hsjsjs ererqewrrwe gtyhtr bcf jujj v frtvygbhujbgyvfgybhuj kmlnjkhbjn Jrjdbxnejdhrnrdb treterte kgkykhyl sedftgyhuj fjdjdkudjdi iu gjghk yes,,,,,,,,,,,,,,,,,, nzjxudhs dfasdfasdfasd giuihui ojk khyklhylkh iiiiiiiiiiiiiiiiiiiiiiiiii sdfgfdghffrd jnjnu cvb ffuyffufukkfuykfufkfk+kfukuftkkfkkfktf asdkryhstayayyy hfghdhdfhfgh asdasd l;kjknhb dfnmedmdnme yessss khglij; shdjssjnssvsusjndbjdndn ujjbujn m Fhhbc yyyyyyyyyv u dsfs lkjljkljkljkljjlljjkl ll Jsjwjdmi2isjfjes ytitetidu fhhfhfhgfhfhg Cg Xd grsdgfdgfedgdf wertyui fdfet jfhdhfhfh puoijhu Kxkxxkkzoxkxoxoxkzkzoxoxoxxokzkxxkzkzkzkzkzkzkzkosozxo vgyujhbn\""
      ]
     },
     "execution_count": 81,
     "metadata": {},
     "output_type": "execute_result"
    }
   ],
   "source": [
    "gebcolumn[498]"
   ]
  },
  {
   "cell_type": "code",
   "execution_count": 85,
   "metadata": {},
   "outputs": [
    {
     "name": "stdout",
     "output_type": "stream",
     "text": [
      "5656\n"
     ]
    }
   ],
   "source": [
    "# ???? what is this shit\n",
    "print(len(' '.join(gebcolumn[498].split(' '))))"
   ]
  },
  {
   "cell_type": "code",
   "execution_count": 86,
   "metadata": {},
   "outputs": [
    {
     "data": {
      "text/plain": [
       "500"
      ]
     },
     "execution_count": 86,
     "metadata": {},
     "output_type": "execute_result"
    }
   ],
   "source": [
    "len(gebcolumn[498].split())"
   ]
  },
  {
   "cell_type": "code",
   "execution_count": 87,
   "metadata": {},
   "outputs": [],
   "source": [
    "word_count = list()\n",
    "for phrase in gebcolumn:\n",
    "    word_count.append(len(phrase.split()))"
   ]
  },
  {
   "cell_type": "code",
   "execution_count": 88,
   "metadata": {},
   "outputs": [
    {
     "name": "stderr",
     "output_type": "stream",
     "text": [
      "/usr/local/lib/python3.7/site-packages/seaborn/distributions.py:288: UserWarning: Data must have variance to compute a kernel density estimate.\n",
      "  warnings.warn(msg, UserWarning)\n"
     ]
    },
    {
     "data": {
      "text/plain": [
       "<matplotlib.axes._subplots.AxesSubplot at 0x11ad43b90>"
      ]
     },
     "execution_count": 88,
     "metadata": {},
     "output_type": "execute_result"
    },
    {
     "data": {
      "image/png": "[encoded data removed]",
      "text/plain": [
       "<Figure size 432x288 with 1 Axes>"
      ]
     },
     "metadata": {
      "needs_background": "light"
     },
     "output_type": "display_data"
    }
   ],
   "source": [
    "se.distplot(word_count)"
   ]
  },
  {
   "cell_type": "markdown",
   "metadata": {},
   "source": [
    "# Google 10k words list\n",
    "https://github.com/first20hours/google-10000-english"
   ]
  },
  {
   "cell_type": "code",
   "execution_count": 89,
   "metadata": {},
   "outputs": [
    {
     "name": "stdout",
     "output_type": "stream",
     "text": [
      "poison\n"
     ]
    }
   ],
   "source": [
    "wordlist = list()\n",
    "wordfile = open(\"datasets/google-10000-english-usa.txt\", \"r\")\n",
    "for word in wordfile:\n",
    "    wordlist.append(word)\n",
    "wordfile.close()\n",
    "print(word)"
   ]
  },
  {
   "cell_type": "code",
   "execution_count": 90,
   "metadata": {},
   "outputs": [
    {
     "data": {
      "text/plain": [
       "array([9872, 2020, 8405, 4404, 4339, 4460, 7478, 1320, 1594, 5142, 6934,\n",
       "       6056, 2778, 7342, 7401, 4291, 4787, 1757, 9455, 9044, 1482, 8965,\n",
       "       1939,  702, 1433, 4229,  345, 3692, 5246, 9443, 5302, 1197, 7653,\n",
       "       9779, 5714, 4859, 6052, 3960, 6022, 9552, 3475, 4288, 2580,  547,\n",
       "       4249, 5219, 6932, 2020, 1481, 5562, 2543, 8899,  405,  813, 9534,\n",
       "       7111, 4832, 2770,  574, 8230, 9185, 6932, 4394, 7919, 5074, 5442,\n",
       "       7405, 5481,  606, 4435, 6633, 7632,  376, 1626, 1010, 3418, 7532,\n",
       "       2791, 2624, 8441, 1812, 3096, 2560, 1078, 3626, 2911, 5383, 6566,\n",
       "       7700, 6113, 4245, 5639, 8366, 4940, 1658, 2899, 2521, 5212, 6535,\n",
       "       1137,  918, 7403, 5577,  441, 2552, 5501, 3380, 8623, 2517, 2097,\n",
       "       6804, 6971, 2034, 2494,  654, 2610, 7494, 3922, 8055, 6043, 8447,\n",
       "        582, 2840, 3900, 5675,  299, 2469, 8293, 5467, 7913, 4889, 9892,\n",
       "       1803,   36, 3290, 2388, 9410, 5947,  281, 4952, 2676, 9775, 7188,\n",
       "        791,  209, 5857, 7462, 1989, 2063, 2866, 6359, 7647, 2526, 1801,\n",
       "       1660, 3679, 1977,  568, 9354, 8620, 3806, 8060, 8536, 8829, 1191,\n",
       "       4917, 6791, 4607, 5864, 2353, 8151, 2095, 6981, 5007, 4138, 7161,\n",
       "       5192,  663, 3324, 9306, 3489,  170, 8826, 6969, 6354, 8789,  852,\n",
       "       4200, 7812, 3127, 3964, 1853,  232, 1198, 2362, 5803, 3516, 4287,\n",
       "       3361, 8367, 1564,  492, 2077, 5496,  816, 5093, 3817, 7772, 6887,\n",
       "       2684, 4628, 4637, 6514, 5652, 2764, 6383, 8629, 5314,  877,   32,\n",
       "       2351, 8416, 1437, 3262, 4669, 7563, 5255, 9597, 6336, 4577, 9119,\n",
       "       7501, 9308, 2843,  133, 2772, 8210, 4260, 3179, 9326, 5761,  966,\n",
       "       1652, 3506, 3520, 3039, 6644, 4580, 3321, 4482, 8313, 6580, 7539,\n",
       "       2606, 4572, 6463, 6188, 4049, 1691, 6096, 2236, 8380, 6996,  450,\n",
       "       2343, 5267,  502, 3842, 2008, 9318, 4744, 2426, 7891, 9081, 3023,\n",
       "       5454, 9874, 9543, 4334, 4777, 6424,  373,  579, 8319, 3067, 2723,\n",
       "       9512, 8813, 8706, 9800,  666, 4942, 2464, 5831, 9982, 7948, 8974,\n",
       "       1235, 9992, 2865, 1529, 6909, 3196, 6844, 3892, 1913, 2461, 1694,\n",
       "       5002, 3167, 8121, 7244, 8947, 7974, 5343, 6134, 2647,  601, 8555,\n",
       "       4818, 4960, 8050, 9863, 3119, 6219, 3685, 3533, 6364, 2221, 9425,\n",
       "       8842, 6248, 4879, 7892, 1256, 3455, 3763, 4767, 9068, 2833, 5524,\n",
       "       9493, 8811, 3111, 1721, 7439, 9530, 4582, 8061, 8272, 1516, 5721,\n",
       "       1099, 4376, 4913, 4205,  816, 7963, 5524, 3069, 5471, 3809, 2844,\n",
       "        450, 1207,  858, 7995, 7155,  480,  511, 3680, 6598, 2570, 7706,\n",
       "       8417, 7964,  206, 9320, 8817,  743, 8192, 3528, 2040, 5496, 5700,\n",
       "       2027, 5741, 3703, 4134, 5823, 5669, 7458, 4312, 5807, 4732, 8620,\n",
       "       8887, 9504, 5426, 2421, 2053, 9757, 5337, 4732, 6394, 3601, 5317,\n",
       "       4769, 2396, 9499, 1065, 1823, 3271, 4144, 6554, 2910, 9987, 1755,\n",
       "       4004, 2451, 6050, 5937, 4940,  840, 7087, 9658, 9039,  420, 1552,\n",
       "       9841, 5270, 8361, 5677, 4350, 7314, 4566, 6912,  344, 8987, 6102,\n",
       "       3977,  124, 7434, 9259, 6704, 3641, 1007,  706, 7575, 8615, 3118,\n",
       "        917, 8498, 6943,  675, 4348, 2478, 2202, 8592, 1913, 1178, 5664,\n",
       "       8599, 1407,  425, 4770, 3893, 4513, 8885, 7250, 9513, 3930, 2121,\n",
       "       7506, 4495, 5711, 1816, 6236, 1159, 3265, 4941, 1931, 9788, 5661,\n",
       "        192, 7855, 1110, 3852, 4694, 2085, 8948, 3499, 8847, 5096, 3088,\n",
       "       3317, 7005, 7455, 5678, 4774])"
      ]
     },
     "execution_count": 90,
     "metadata": {},
     "output_type": "execute_result"
    }
   ],
   "source": [
    "# generate random sentence\n",
    "np.random.randint(0, high=len(wordlist), size=500)"
   ]
  },
  {
   "cell_type": "code",
   "execution_count": 91,
   "metadata": {},
   "outputs": [
    {
     "name": "stdout",
     "output_type": "stream",
     "text": [
      "bl athletics utilization define towns precipitation occasions pod perceived spoken failures cry casting end disability possess paso toy hack linear studied apartments mart views ended ears refine three remember perry stripes specializing addition brother vacation ground double flip near milfhunter transcripts attacked lies shed dies folders bryan monthly physical different sharp prevent invest machine rank registration hiv similarly sql switzerland cm seekers geology basis christine naughty fixed approximate bet items material rss nominations ghz spare guides duke dutch derby ram scale transportation senator markets blocking ensures exist flesh carol used tools finishing madison serum institute sucks object another ibm tuition donated aluminium resolved teenage compaq responsibility citizenship filme mpg danny enlargement hungary join kennedy fr excluding conviction tales synthesis zealand demo girl family utilities prisoner beaver autumn acm tf cinema dicke fraser nipples partnerships confidence schedules legacy world russell rider eye faqs store russian charger documented silence patch appropriations agenda complex isolated aqua norton transaction climbing feels jewel tier consultant sensors engine interventions accessory currencies tp mechanical lands subject crest dans luxembourg pressing thumbnails usps spencer monday win jp gates body ladies pools situations continue unions between possess eventually countries unsigned certain events cisco sluts estonia awareness temperatures molecules gel suspended machine boots mazda reduction winning language conditioning trend help illustration respected shut remix same admissions ur bush dean bridal journals locator cycle bailey parade likely homework album running desktops realistic performing ranger markets excess introducing territory exposed host log already arabia gift fisher inserted deals companion automobile trackback fighters designation trader circuit ask uniprotkb uw spyware jam burst maintains funded flex oo posters swingers mods usa mistakes catering email drums aside signup sympathy insured checks smaller potential suggest decimal photoshop dealt attempting genres lookup third stupid wx establishing tomatoes madonna nuke eco dozens fifth whore passive most leonard nascar proposition gateway kevin business meet visibility layer suggest liquid astrology confirmed kidney wall holy behavior docs strain chan episode racks responses partnerships immigrants sheet abuse leisure int valid ladies statement art ships placement cultures roland bomb son pocket karaoke stroke partially submitting bag screening correctly rated wholesale multiple innocent interim forgot lucy folk volumes myanmar swiss intervention stones jan ins trick valium suzuki bikini integer meta median italian yesterday dat pete garden management sample enhancement reveals danger stop expires pleased bold ed suites relay policies cooking travelers viking soa abraham potential iso served arctic constitutional middle pakistan seventh volunteers copyrights wells hill flashing entity trusts plaza visual institutional indices preliminary supporting weighted viking inc supported check us sequences conditional consequence median physicians fcc check addiction depends injuries rebate market advertisement focused adapted securities collaborative studies shopzilla perception hotel display highly flood punishment cement oclc mold pork remedy checklist criminal advance apps hb concerned sells processing other consecutive climate occasion arranged hint timer configured jd anytime mating rider tutorial flat totally music attacks november ohio img basically gdp capture estimates heads isaac marie revised certain generic word pvc revenue hazardous trembl utilize movements clients montreal cc hypothesis shock bother defendant integrity\n",
      "500\n"
     ]
    }
   ],
   "source": [
    "wordphrase = list()\n",
    "for i in np.random.randint(0, high=len(wordlist), size=500):\n",
    "    wordphrase.append(wordlist[i].rstrip())\n",
    "print(' '.join(wordphrase))\n",
    "print(len(wordphrase))"
   ]
  },
  {
   "cell_type": "code",
   "execution_count": 92,
   "metadata": {},
   "outputs": [],
   "source": [
    "wordphrase = list()\n",
    "wordcolumn = list()\n",
    "for phrase in range(0,1000):\n",
    "    for i in np.random.randint(0, high=len(wordlist), size=500):\n",
    "        wordphrase.append(wordlist[i].rstrip())\n",
    "    wordcolumn.append(' '.join(wordphrase))\n",
    "    del wordphrase[:] # this is important to avoid commulative overloading the list "
   ]
  },
  {
   "cell_type": "code",
   "execution_count": 93,
   "metadata": {},
   "outputs": [
    {
     "name": "stdout",
     "output_type": "stream",
     "text": [
      "jacob tier quoted reproduction guam collecting hindu turns shown edited centered broader arthritis seriously emissions noble wikipedia mat visits ware radio palestine feeling milk annie sort adjust catering poem reasoning iii appendix raymond yn tones impaired madness ef statistical forces considers joshua along coordination delayed night grammar co nascar bear sharp invited microsoft tennis md daily assisted ci ssl andale trunk installing james variable like assessment boc wild allows rod sky tremendous expect expedia rip valuation enb victim sexually closest sec discover forget substitute inspector la lycos comments courier cart planet strike confidential sizes urge paths sites geneva postcards filled generic thermal subsidiary studio excellence coding sn kill vc reports exceptional phrase we respect webster nonprofit homework tigers aaa brooks fabrics retail ericsson rough ends utils timeline illegal am road allied container ellis cs adults tagged inserted validity basin brothers paperback ncaa entirely pennsylvania real peer dynamics rouge sapphire fatty asn cordless configure kay valley your poll hobbies greece protocols stephanie consortium gospel fee continued decision types adjusted enclosure decimal finnish encouraged schema move forms novel captain jose broadcasting april bingo angels religion perfectly removable genres stupid miscellaneous statements germany england mcdonald concerns ratio butt dosage update dans silver pastor skins heather www broken master implied introduce date air following casting bored knit distribution funeral trick specification williams journalist toilet pursuant clouds understanding gpl wants rank grace glasses affordable voluntary father evening towns treo limited once glasgow rejected sydney bed lookup guidance luther beastiality most atlas wishing lodge islam investigators appreciation writer campaigns lecture blessed give demand confidentiality cgi clerk volunteer ballot technology thick amanda ends infected ra pursuant sexcam follow llp testing ferry warning wide stood unnecessary tsunami stable alex stack subaru migration circuits mom salt cave hostels filled carlo faculty multiple outlook talented exhaust qualifying templates nintendo tractor wesley cl al addition featuring depend shore communities acrylic stories jokes player military motel oz advance farm dive year foot ugly presidential bbc goods growth constitutes dynamics mailman hostel fans clocks favor dressing note ourselves wi interaction starting call oecd chess worship programmer sequences reuters mozambique visit female molecular lead viruses brave paypal crime floor detection example attacks news parents war inquiries christ causes tit cms hayes kim duty investigation portland twist soldiers nested deliver fourth legitimate third empire circuits pics workplace scott or potter ant successful author nipple continues revisions temporal inserted tiger or trades comparisons say salvation nsw aid jamaica slave tea alphabetical spirit it stone anymore differ offensive floppy can guidance wide affiliation excitement bahrain involves hazards detailed nominated doom hub bold guilty belize meaningful insertion follow surveillance watson chase upgrades rob possible tops vibrators crisis masturbation gossip seven dana rail strap bonds entered checkout superintendent informational form effect decreased apartments spin famous ra balance fears menu futures finish onion works foto authorized bankruptcy ash corporate hints sage noted emerald accessing nextel predictions equation hardly chains money mount posts sink loose dh geneva cgi profession process assure packaging sanyo requirement flavor offered existence accommodate aluminium canvas enable\n",
      "500\n"
     ]
    }
   ],
   "source": [
    "print(wordcolumn[9])\n",
    "print(len(wordcolumn[9].split(' ')))"
   ]
  },
  {
   "cell_type": "code",
   "execution_count": 94,
   "metadata": {},
   "outputs": [
    {
     "data": {
      "text/plain": [
       "1000"
      ]
     },
     "execution_count": 94,
     "metadata": {},
     "output_type": "execute_result"
    }
   ],
   "source": [
    "len(wordcolumn)"
   ]
  },
  {
   "cell_type": "code",
   "execution_count": 95,
   "metadata": {},
   "outputs": [
    {
     "data": {
      "text/plain": [
       "500"
      ]
     },
     "execution_count": 95,
     "metadata": {},
     "output_type": "execute_result"
    }
   ],
   "source": [
    "len(wordcolumn[9].split(' '))"
   ]
  },
  {
   "cell_type": "code",
   "execution_count": 96,
   "metadata": {},
   "outputs": [
    {
     "data": {
      "text/html": [
       "<div>\n",
       "<style scoped>\n",
       "    .dataframe tbody tr th:only-of-type {\n",
       "        vertical-align: middle;\n",
       "    }\n",
       "\n",
       "    .dataframe tbody tr th {\n",
       "        vertical-align: top;\n",
       "    }\n",
       "\n",
       "    .dataframe thead th {\n",
       "        text-align: right;\n",
       "    }\n",
       "</style>\n",
       "<table border=\"1\" class=\"dataframe\">\n",
       "  <thead>\n",
       "    <tr style=\"text-align: right;\">\n",
       "      <th></th>\n",
       "      <th>Unnamed: 0</th>\n",
       "      <th>Response</th>\n",
       "      <th>Label</th>\n",
       "    </tr>\n",
       "  </thead>\n",
       "  <tbody>\n",
       "    <tr>\n",
       "      <th>0</th>\n",
       "      <td>0</td>\n",
       "      <td>The best soundtrack ever to anything.: I'm rea...</td>\n",
       "      <td>0</td>\n",
       "    </tr>\n",
       "    <tr>\n",
       "      <th>1</th>\n",
       "      <td>1</td>\n",
       "      <td>Amazing!: This soundtrack is my favorite music...</td>\n",
       "      <td>0</td>\n",
       "    </tr>\n",
       "    <tr>\n",
       "      <th>2</th>\n",
       "      <td>2</td>\n",
       "      <td>Excellent Soundtrack: I truly like this soundt...</td>\n",
       "      <td>0</td>\n",
       "    </tr>\n",
       "    <tr>\n",
       "      <th>3</th>\n",
       "      <td>3</td>\n",
       "      <td>Remember, Pull Your Jaw Off The Floor After He...</td>\n",
       "      <td>0</td>\n",
       "    </tr>\n",
       "    <tr>\n",
       "      <th>4</th>\n",
       "      <td>4</td>\n",
       "      <td>an absolute masterpiece: I am quite sure any o...</td>\n",
       "      <td>0</td>\n",
       "    </tr>\n",
       "  </tbody>\n",
       "</table>\n",
       "</div>"
      ],
      "text/plain": [
       "   Unnamed: 0                                           Response  Label\n",
       "0           0  The best soundtrack ever to anything.: I'm rea...      0\n",
       "1           1  Amazing!: This soundtrack is my favorite music...      0\n",
       "2           2  Excellent Soundtrack: I truly like this soundt...      0\n",
       "3           3  Remember, Pull Your Jaw Off The Floor After He...      0\n",
       "4           4  an absolute masterpiece: I am quite sure any o...      0"
      ]
     },
     "execution_count": 96,
     "metadata": {},
     "output_type": "execute_result"
    }
   ],
   "source": [
    "# amzon reviews dataset\n",
    "\n",
    "amadf = pd.read_csv('datasets/amazon review sample.csv')\n",
    "\n",
    "amadf.head()"
   ]
  },
  {
   "cell_type": "markdown",
   "metadata": {},
   "source": [
    "# Class types amalgamation\n",
    "## Clean data class {amazon reviews, emails}"
   ]
  },
  {
   "cell_type": "code",
   "execution_count": 97,
   "metadata": {},
   "outputs": [
    {
     "data": {
      "text/html": [
       "<div>\n",
       "<style scoped>\n",
       "    .dataframe tbody tr th:only-of-type {\n",
       "        vertical-align: middle;\n",
       "    }\n",
       "\n",
       "    .dataframe tbody tr th {\n",
       "        vertical-align: top;\n",
       "    }\n",
       "\n",
       "    .dataframe thead th {\n",
       "        text-align: right;\n",
       "    }\n",
       "</style>\n",
       "<table border=\"1\" class=\"dataframe\">\n",
       "  <thead>\n",
       "    <tr style=\"text-align: right;\">\n",
       "      <th></th>\n",
       "      <th>Unnamed: 0</th>\n",
       "      <th>file</th>\n",
       "      <th>message</th>\n",
       "      <th>email_body</th>\n",
       "    </tr>\n",
       "  </thead>\n",
       "  <tbody>\n",
       "    <tr>\n",
       "      <th>0</th>\n",
       "      <td>0</td>\n",
       "      <td>allen-p/_sent_mail/1.</td>\n",
       "      <td>Message-ID: &lt;18782981.1075855378110.JavaMail.e...</td>\n",
       "      <td>Here is our forecast</td>\n",
       "    </tr>\n",
       "    <tr>\n",
       "      <th>1</th>\n",
       "      <td>1</td>\n",
       "      <td>allen-p/_sent_mail/10.</td>\n",
       "      <td>Message-ID: &lt;15464986.1075855378456.JavaMail.e...</td>\n",
       "      <td>Traveling to have a business meeting takes th...</td>\n",
       "    </tr>\n",
       "    <tr>\n",
       "      <th>2</th>\n",
       "      <td>2</td>\n",
       "      <td>allen-p/_sent_mail/100.</td>\n",
       "      <td>Message-ID: &lt;24216240.1075855687451.JavaMail.e...</td>\n",
       "      <td>test successful.  way to go!!!</td>\n",
       "    </tr>\n",
       "    <tr>\n",
       "      <th>3</th>\n",
       "      <td>3</td>\n",
       "      <td>allen-p/_sent_mail/1000.</td>\n",
       "      <td>Message-ID: &lt;13505866.1075863688222.JavaMail.e...</td>\n",
       "      <td>Randy,  Can you send me a schedule of the sal...</td>\n",
       "    </tr>\n",
       "    <tr>\n",
       "      <th>4</th>\n",
       "      <td>4</td>\n",
       "      <td>allen-p/_sent_mail/1001.</td>\n",
       "      <td>Message-ID: &lt;30922949.1075863688243.JavaMail.e...</td>\n",
       "      <td>Let's shoot for Tuesday at 11:45.</td>\n",
       "    </tr>\n",
       "  </tbody>\n",
       "</table>\n",
       "</div>"
      ],
      "text/plain": [
       "   Unnamed: 0                      file  \\\n",
       "0           0     allen-p/_sent_mail/1.   \n",
       "1           1    allen-p/_sent_mail/10.   \n",
       "2           2   allen-p/_sent_mail/100.   \n",
       "3           3  allen-p/_sent_mail/1000.   \n",
       "4           4  allen-p/_sent_mail/1001.   \n",
       "\n",
       "                                             message  \\\n",
       "0  Message-ID: <18782981.1075855378110.JavaMail.e...   \n",
       "1  Message-ID: <15464986.1075855378456.JavaMail.e...   \n",
       "2  Message-ID: <24216240.1075855687451.JavaMail.e...   \n",
       "3  Message-ID: <13505866.1075863688222.JavaMail.e...   \n",
       "4  Message-ID: <30922949.1075863688243.JavaMail.e...   \n",
       "\n",
       "                                          email_body  \n",
       "0                             Here is our forecast    \n",
       "1   Traveling to have a business meeting takes th...  \n",
       "2                     test successful.  way to go!!!  \n",
       "3   Randy,  Can you send me a schedule of the sal...  \n",
       "4                  Let's shoot for Tuesday at 11:45.  "
      ]
     },
     "execution_count": 97,
     "metadata": {},
     "output_type": "execute_result"
    }
   ],
   "source": [
    "emaildf.head()"
   ]
  },
  {
   "cell_type": "code",
   "execution_count": 98,
   "metadata": {},
   "outputs": [
    {
     "name": "stdout",
     "output_type": "stream",
     "text": [
      "<class 'pandas.core.frame.DataFrame'>\n",
      "RangeIndex: 1000 entries, 0 to 999\n",
      "Data columns (total 4 columns):\n",
      " #   Column      Non-Null Count  Dtype \n",
      "---  ------      --------------  ----- \n",
      " 0   Unnamed: 0  1000 non-null   int64 \n",
      " 1   file        1000 non-null   object\n",
      " 2   message     1000 non-null   object\n",
      " 3   email_body  1000 non-null   object\n",
      "dtypes: int64(1), object(3)\n",
      "memory usage: 31.4+ KB\n"
     ]
    }
   ],
   "source": [
    "emaildf.info()"
   ]
  },
  {
   "cell_type": "code",
   "execution_count": 107,
   "metadata": {},
   "outputs": [],
   "source": [
    "emaildf['Response'] = emaildf['email_body']\n",
    "emaildf['Label'] = 0"
   ]
  },
  {
   "cell_type": "code",
   "execution_count": 108,
   "metadata": {},
   "outputs": [
    {
     "data": {
      "text/html": [
       "<div>\n",
       "<style scoped>\n",
       "    .dataframe tbody tr th:only-of-type {\n",
       "        vertical-align: middle;\n",
       "    }\n",
       "\n",
       "    .dataframe tbody tr th {\n",
       "        vertical-align: top;\n",
       "    }\n",
       "\n",
       "    .dataframe thead th {\n",
       "        text-align: right;\n",
       "    }\n",
       "</style>\n",
       "<table border=\"1\" class=\"dataframe\">\n",
       "  <thead>\n",
       "    <tr style=\"text-align: right;\">\n",
       "      <th></th>\n",
       "      <th>Response</th>\n",
       "      <th>Label</th>\n",
       "    </tr>\n",
       "  </thead>\n",
       "  <tbody>\n",
       "    <tr>\n",
       "      <th>0</th>\n",
       "      <td>Here is our forecast</td>\n",
       "      <td>0</td>\n",
       "    </tr>\n",
       "    <tr>\n",
       "      <th>1</th>\n",
       "      <td>Traveling to have a business meeting takes th...</td>\n",
       "      <td>0</td>\n",
       "    </tr>\n",
       "    <tr>\n",
       "      <th>2</th>\n",
       "      <td>test successful.  way to go!!!</td>\n",
       "      <td>0</td>\n",
       "    </tr>\n",
       "    <tr>\n",
       "      <th>3</th>\n",
       "      <td>Randy,  Can you send me a schedule of the sal...</td>\n",
       "      <td>0</td>\n",
       "    </tr>\n",
       "    <tr>\n",
       "      <th>4</th>\n",
       "      <td>Let's shoot for Tuesday at 11:45.</td>\n",
       "      <td>0</td>\n",
       "    </tr>\n",
       "  </tbody>\n",
       "</table>\n",
       "</div>"
      ],
      "text/plain": [
       "                                            Response  Label\n",
       "0                             Here is our forecast        0\n",
       "1   Traveling to have a business meeting takes th...      0\n",
       "2                     test successful.  way to go!!!      0\n",
       "3   Randy,  Can you send me a schedule of the sal...      0\n",
       "4                  Let's shoot for Tuesday at 11:45.      0"
      ]
     },
     "execution_count": 108,
     "metadata": {},
     "output_type": "execute_result"
    }
   ],
   "source": [
    "emailspart = emaildf[['Response', 'Label']]\n",
    "emailspart.head()"
   ]
  },
  {
   "cell_type": "code",
   "execution_count": 109,
   "metadata": {},
   "outputs": [
    {
     "data": {
      "text/html": [
       "<div>\n",
       "<style scoped>\n",
       "    .dataframe tbody tr th:only-of-type {\n",
       "        vertical-align: middle;\n",
       "    }\n",
       "\n",
       "    .dataframe tbody tr th {\n",
       "        vertical-align: top;\n",
       "    }\n",
       "\n",
       "    .dataframe thead th {\n",
       "        text-align: right;\n",
       "    }\n",
       "</style>\n",
       "<table border=\"1\" class=\"dataframe\">\n",
       "  <thead>\n",
       "    <tr style=\"text-align: right;\">\n",
       "      <th></th>\n",
       "      <th>Response</th>\n",
       "      <th>Label</th>\n",
       "    </tr>\n",
       "  </thead>\n",
       "  <tbody>\n",
       "    <tr>\n",
       "      <th>0</th>\n",
       "      <td>The best soundtrack ever to anything.: I'm rea...</td>\n",
       "      <td>0</td>\n",
       "    </tr>\n",
       "    <tr>\n",
       "      <th>1</th>\n",
       "      <td>Amazing!: This soundtrack is my favorite music...</td>\n",
       "      <td>0</td>\n",
       "    </tr>\n",
       "    <tr>\n",
       "      <th>2</th>\n",
       "      <td>Excellent Soundtrack: I truly like this soundt...</td>\n",
       "      <td>0</td>\n",
       "    </tr>\n",
       "    <tr>\n",
       "      <th>3</th>\n",
       "      <td>Remember, Pull Your Jaw Off The Floor After He...</td>\n",
       "      <td>0</td>\n",
       "    </tr>\n",
       "    <tr>\n",
       "      <th>4</th>\n",
       "      <td>an absolute masterpiece: I am quite sure any o...</td>\n",
       "      <td>0</td>\n",
       "    </tr>\n",
       "  </tbody>\n",
       "</table>\n",
       "</div>"
      ],
      "text/plain": [
       "                                            Response  Label\n",
       "0  The best soundtrack ever to anything.: I'm rea...      0\n",
       "1  Amazing!: This soundtrack is my favorite music...      0\n",
       "2  Excellent Soundtrack: I truly like this soundt...      0\n",
       "3  Remember, Pull Your Jaw Off The Floor After He...      0\n",
       "4  an absolute masterpiece: I am quite sure any o...      0"
      ]
     },
     "execution_count": 109,
     "metadata": {},
     "output_type": "execute_result"
    }
   ],
   "source": [
    "reviewspart = amadf[['Response', 'Label']]\n",
    "\n",
    "reviewspart.head()"
   ]
  },
  {
   "cell_type": "code",
   "execution_count": 110,
   "metadata": {},
   "outputs": [
    {
     "data": {
      "text/html": [
       "<div>\n",
       "<style scoped>\n",
       "    .dataframe tbody tr th:only-of-type {\n",
       "        vertical-align: middle;\n",
       "    }\n",
       "\n",
       "    .dataframe tbody tr th {\n",
       "        vertical-align: top;\n",
       "    }\n",
       "\n",
       "    .dataframe thead th {\n",
       "        text-align: right;\n",
       "    }\n",
       "</style>\n",
       "<table border=\"1\" class=\"dataframe\">\n",
       "  <thead>\n",
       "    <tr style=\"text-align: right;\">\n",
       "      <th></th>\n",
       "      <th>Response</th>\n",
       "      <th>Label</th>\n",
       "    </tr>\n",
       "  </thead>\n",
       "  <tbody>\n",
       "    <tr>\n",
       "      <th>0</th>\n",
       "      <td>Here is our forecast</td>\n",
       "      <td>0</td>\n",
       "    </tr>\n",
       "    <tr>\n",
       "      <th>1</th>\n",
       "      <td>Traveling to have a business meeting takes th...</td>\n",
       "      <td>0</td>\n",
       "    </tr>\n",
       "    <tr>\n",
       "      <th>2</th>\n",
       "      <td>test successful.  way to go!!!</td>\n",
       "      <td>0</td>\n",
       "    </tr>\n",
       "    <tr>\n",
       "      <th>3</th>\n",
       "      <td>Randy,  Can you send me a schedule of the sal...</td>\n",
       "      <td>0</td>\n",
       "    </tr>\n",
       "    <tr>\n",
       "      <th>4</th>\n",
       "      <td>Let's shoot for Tuesday at 11:45.</td>\n",
       "      <td>0</td>\n",
       "    </tr>\n",
       "  </tbody>\n",
       "</table>\n",
       "</div>"
      ],
      "text/plain": [
       "                                            Response  Label\n",
       "0                             Here is our forecast        0\n",
       "1   Traveling to have a business meeting takes th...      0\n",
       "2                     test successful.  way to go!!!      0\n",
       "3   Randy,  Can you send me a schedule of the sal...      0\n",
       "4                  Let's shoot for Tuesday at 11:45.      0"
      ]
     },
     "execution_count": 110,
     "metadata": {},
     "output_type": "execute_result"
    }
   ],
   "source": [
    "cleanclass = pd.concat([emailspart, reviewspart], ignore_index=True)\n",
    "cleanclass.head()"
   ]
  },
  {
   "cell_type": "code",
   "execution_count": 111,
   "metadata": {},
   "outputs": [
    {
     "name": "stdout",
     "output_type": "stream",
     "text": [
      "<class 'pandas.core.frame.DataFrame'>\n",
      "RangeIndex: 2000 entries, 0 to 1999\n",
      "Data columns (total 2 columns):\n",
      " #   Column    Non-Null Count  Dtype \n",
      "---  ------    --------------  ----- \n",
      " 0   Response  2000 non-null   object\n",
      " 1   Label     2000 non-null   int64 \n",
      "dtypes: int64(1), object(1)\n",
      "memory usage: 31.4+ KB\n"
     ]
    }
   ],
   "source": [
    "cleanclass.info()"
   ]
  },
  {
   "cell_type": "markdown",
   "metadata": {},
   "source": [
    "## Dirty data class {gibberish, wordlist}"
   ]
  },
  {
   "cell_type": "code",
   "execution_count": 112,
   "metadata": {},
   "outputs": [
    {
     "name": "stdout",
     "output_type": "stream",
     "text": [
      "1000\n",
      "1000\n"
     ]
    }
   ],
   "source": [
    "print(len(wordcolumn))\n",
    "print(len(gebcolumn))"
   ]
  },
  {
   "cell_type": "code",
   "execution_count": 113,
   "metadata": {},
   "outputs": [
    {
     "data": {
      "text/html": [
       "<div>\n",
       "<style scoped>\n",
       "    .dataframe tbody tr th:only-of-type {\n",
       "        vertical-align: middle;\n",
       "    }\n",
       "\n",
       "    .dataframe tbody tr th {\n",
       "        vertical-align: top;\n",
       "    }\n",
       "\n",
       "    .dataframe thead th {\n",
       "        text-align: right;\n",
       "    }\n",
       "</style>\n",
       "<table border=\"1\" class=\"dataframe\">\n",
       "  <thead>\n",
       "    <tr style=\"text-align: right;\">\n",
       "      <th></th>\n",
       "      <th>Response</th>\n",
       "      <th>Label</th>\n",
       "    </tr>\n",
       "  </thead>\n",
       "  <tbody>\n",
       "    <tr>\n",
       "      <th>0</th>\n",
       "      <td>wait player chemical treasures aspects designe...</td>\n",
       "      <td>1</td>\n",
       "    </tr>\n",
       "    <tr>\n",
       "      <th>1</th>\n",
       "      <td>loss rwanda protection postcards nightmare gpl...</td>\n",
       "      <td>1</td>\n",
       "    </tr>\n",
       "    <tr>\n",
       "      <th>2</th>\n",
       "      <td>fires permissions tennis flow secure lets urba...</td>\n",
       "      <td>1</td>\n",
       "    </tr>\n",
       "    <tr>\n",
       "      <th>3</th>\n",
       "      <td>apparently teddy understand cd xerox refers ol...</td>\n",
       "      <td>1</td>\n",
       "    </tr>\n",
       "    <tr>\n",
       "      <th>4</th>\n",
       "      <td>renew enabled relating kijiji hiring accomplis...</td>\n",
       "      <td>1</td>\n",
       "    </tr>\n",
       "  </tbody>\n",
       "</table>\n",
       "</div>"
      ],
      "text/plain": [
       "                                            Response  Label\n",
       "0  wait player chemical treasures aspects designe...      1\n",
       "1  loss rwanda protection postcards nightmare gpl...      1\n",
       "2  fires permissions tennis flow secure lets urba...      1\n",
       "3  apparently teddy understand cd xerox refers ol...      1\n",
       "4  renew enabled relating kijiji hiring accomplis...      1"
      ]
     },
     "execution_count": 113,
     "metadata": {},
     "output_type": "execute_result"
    }
   ],
   "source": [
    "alltext = wordcolumn + gebcolumn\n",
    "dirtyclass = pd.DataFrame()\n",
    "\n",
    "dirtyclass['Response'] = alltext\n",
    "dirtyclass['Label'] = 1\n",
    "\n",
    "dirtyclass.head()"
   ]
  },
  {
   "cell_type": "code",
   "execution_count": 114,
   "metadata": {},
   "outputs": [
    {
     "name": "stdout",
     "output_type": "stream",
     "text": [
      "<class 'pandas.core.frame.DataFrame'>\n",
      "RangeIndex: 2000 entries, 0 to 1999\n",
      "Data columns (total 2 columns):\n",
      " #   Column    Non-Null Count  Dtype \n",
      "---  ------    --------------  ----- \n",
      " 0   Response  2000 non-null   object\n",
      " 1   Label     2000 non-null   int64 \n",
      "dtypes: int64(1), object(1)\n",
      "memory usage: 31.4+ KB\n"
     ]
    }
   ],
   "source": [
    "dirtyclass.info()"
   ]
  },
  {
   "cell_type": "markdown",
   "metadata": {},
   "source": [
    "# Creation of dataset"
   ]
  },
  {
   "cell_type": "code",
   "execution_count": 115,
   "metadata": {},
   "outputs": [
    {
     "data": {
      "text/html": [
       "<div>\n",
       "<style scoped>\n",
       "    .dataframe tbody tr th:only-of-type {\n",
       "        vertical-align: middle;\n",
       "    }\n",
       "\n",
       "    .dataframe tbody tr th {\n",
       "        vertical-align: top;\n",
       "    }\n",
       "\n",
       "    .dataframe thead th {\n",
       "        text-align: right;\n",
       "    }\n",
       "</style>\n",
       "<table border=\"1\" class=\"dataframe\">\n",
       "  <thead>\n",
       "    <tr style=\"text-align: right;\">\n",
       "      <th></th>\n",
       "      <th>Response</th>\n",
       "      <th>Label</th>\n",
       "    </tr>\n",
       "  </thead>\n",
       "  <tbody>\n",
       "    <tr>\n",
       "      <th>0</th>\n",
       "      <td>Here is our forecast</td>\n",
       "      <td>0</td>\n",
       "    </tr>\n",
       "    <tr>\n",
       "      <th>1</th>\n",
       "      <td>Traveling to have a business meeting takes th...</td>\n",
       "      <td>0</td>\n",
       "    </tr>\n",
       "    <tr>\n",
       "      <th>2</th>\n",
       "      <td>test successful.  way to go!!!</td>\n",
       "      <td>0</td>\n",
       "    </tr>\n",
       "    <tr>\n",
       "      <th>3</th>\n",
       "      <td>Randy,  Can you send me a schedule of the sal...</td>\n",
       "      <td>0</td>\n",
       "    </tr>\n",
       "    <tr>\n",
       "      <th>4</th>\n",
       "      <td>Let's shoot for Tuesday at 11:45.</td>\n",
       "      <td>0</td>\n",
       "    </tr>\n",
       "  </tbody>\n",
       "</table>\n",
       "</div>"
      ],
      "text/plain": [
       "                                            Response  Label\n",
       "0                             Here is our forecast        0\n",
       "1   Traveling to have a business meeting takes th...      0\n",
       "2                     test successful.  way to go!!!      0\n",
       "3   Randy,  Can you send me a schedule of the sal...      0\n",
       "4                  Let's shoot for Tuesday at 11:45.      0"
      ]
     },
     "execution_count": 115,
     "metadata": {},
     "output_type": "execute_result"
    }
   ],
   "source": [
    "dataset = pd.concat([cleanclass, dirtyclass], ignore_index=True)\n",
    "dataset.head()"
   ]
  },
  {
   "cell_type": "code",
   "execution_count": 116,
   "metadata": {},
   "outputs": [
    {
     "name": "stdout",
     "output_type": "stream",
     "text": [
      "<class 'pandas.core.frame.DataFrame'>\n",
      "RangeIndex: 4000 entries, 0 to 3999\n",
      "Data columns (total 2 columns):\n",
      " #   Column    Non-Null Count  Dtype \n",
      "---  ------    --------------  ----- \n",
      " 0   Response  4000 non-null   object\n",
      " 1   Label     4000 non-null   int64 \n",
      "dtypes: int64(1), object(1)\n",
      "memory usage: 62.6+ KB\n"
     ]
    }
   ],
   "source": [
    "dataset.info()"
   ]
  },
  {
   "cell_type": "code",
   "execution_count": 117,
   "metadata": {},
   "outputs": [
    {
     "data": {
      "text/plain": [
       "<matplotlib.axes._subplots.AxesSubplot at 0x11ae0a350>"
      ]
     },
     "execution_count": 117,
     "metadata": {},
     "output_type": "execute_result"
    },
    {
     "data": {
      "image/png": "[encoded data removed]",
      "text/plain": [
       "<Figure size 432x288 with 1 Axes>"
      ]
     },
     "metadata": {
      "needs_background": "light"
     },
     "output_type": "display_data"
    }
   ],
   "source": [
    "#check class distribution\n",
    "se.distplot(dataset['Label'])"
   ]
  },
  {
   "cell_type": "code",
   "execution_count": 118,
   "metadata": {},
   "outputs": [],
   "source": [
    "dataset.to_csv('datasets/synthatic dataset.csv')"
   ]
  },
  {
   "cell_type": "code",
   "execution_count": null,
   "metadata": {},
   "outputs": [],
   "source": []
  }
 ],
 "metadata": {
  "kernelspec": {
   "display_name": "Python 3",
   "language": "python",
   "name": "python3"
  },
  "language_info": {
   "codemirror_mode": {
    "name": "ipython",
    "version": 3
   },
   "file_extension": ".py",
   "mimetype": "text/x-python",
   "name": "python",
   "nbconvert_exporter": "python",
   "pygments_lexer": "ipython3",
   "version": "3.7.7"
  }
 },
 "nbformat": 4,
 "nbformat_minor": 4
}
